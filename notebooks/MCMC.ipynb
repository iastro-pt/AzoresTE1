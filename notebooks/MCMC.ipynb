{
 "cells": [
  {
   "cell_type": "code",
   "execution_count": 1,
   "metadata": {
    "collapsed": false
   },
   "outputs": [],
   "source": [
    "import matplotlib.pyplot as plt\n",
    "import numpy as np\n",
    "from scipy import stats\n",
    "import emcee\n",
    "import batman\n",
    "import sys\n",
    "sys.path.append('..')\n",
    "from utilities.ajplanet import pl_rv_array as rv_curve"
   ]
  },
  {
   "cell_type": "code",
   "execution_count": 2,
   "metadata": {
    "collapsed": true
   },
   "outputs": [],
   "source": [
    "fix_ecc = True"
   ]
  },
  {
   "cell_type": "code",
   "execution_count": 174,
   "metadata": {
    "collapsed": true
   },
   "outputs": [],
   "source": [
    "def get_tp(P, ecc, omega, tt):\n",
    "    \"\"\" \n",
    "    Return the epoch of periastron from other orbital parameters\n",
    "        P: orbital period\n",
    "        ecc: eccentricity\n",
    "        omega: argument of periastron\n",
    "        tt: transit epoch\n",
    "     \"\"\"\n",
    "    if ecc == 0.: \n",
    "        Tp = tt #+ P/4.\n",
    "    else:\n",
    "        omega = np.deg2rad(omega)\n",
    "        E0 = np.arctan2(np.sqrt(1. - ecc**2)*np.cos(omega), np.sin(omega) + ecc)\n",
    "        #print E0\n",
    "        #print P/(2.*np.pi)*(E0 - ecc * np.sin(E0))\n",
    "        #print P/4.\n",
    "        Tp = tt - P/(2.*np.pi)*(E0 - ecc * np.sin(E0))\n",
    "    return Tp\n",
    "\n",
    "\n",
    "def get_tt(P, ecc, omega, tp):\n",
    "    \"\"\"\n",
    "    Return the transit epoch from other orbital parameters\n",
    "        P: orbital period\n",
    "        ecc: eccentricity\n",
    "        omega: argument of periastron\n",
    "        tp: epoch of periastron\n",
    "     \"\"\"\n",
    "    E0 = np.arctan2(np.sqrt(1. - ecc**2)*np.cos(omega), np.sin(omega) + ecc)\n",
    "    Tt = tp + P/(2.*np.pi)*(E0 - ecc*np.sin(E0))\n",
    "    return Tt"
   ]
  },
  {
   "cell_type": "code",
   "execution_count": 247,
   "metadata": {
    "collapsed": false
   },
   "outputs": [],
   "source": [
    "class Planet(object):\n",
    "    def __init__(self):\n",
    "        # transit parameters\n",
    "        self.rp = 0.          # planet radius (in units of stellar radii)\n",
    "        self.a = 0.           # semi-major axis (in units of stellar radii)\n",
    "        self.inc = 0.         # orbital inclination (in degrees)\n",
    "        self.t0 = 0.          # time of inferior conjunction\n",
    "        self.jitter_lc = 0.\n",
    "        \n",
    "        # these are fixed\n",
    "        self.limb_dark = \"quadratic\" # limb darkening model\n",
    "        self.u = [.4983, 0.2042]     # limb darkening coefficients\n",
    "\n",
    "        # rv parameters\n",
    "        self.rvsys = 0.      # radial velocity systematic velocity\n",
    "        self.K = 0.          # semi-amplitude\n",
    "        self.T0 = 0.         # time of periastron (function of self.t0, not a free parameter)\n",
    "        self.jitter_rv = 0.\n",
    "\n",
    "        # parameters shared between transit and rv\n",
    "        self.period = 0. # orbital period\n",
    "        self.ecc = 0.    # eccentricity\n",
    "        self.w = 0.      # longitude of periastron (in degrees)\n",
    "\n",
    "\n",
    "        \n",
    "        self.N_free_parameters = 9 if fix_ecc else 11\n",
    "\n",
    "\n",
    "        ## build the batman model\n",
    "        self.params = batman.TransitParams()\n",
    "        self.params.limb_dark = self.limb_dark  # limb darkening model\n",
    "        self.params.u = self.u                  # limb darkening coefficients\n",
    "\n",
    "        self.labels = [r'$R_p / R_*$',\n",
    "                       r'$a/R_*$',\n",
    "                       r'$i$',\n",
    "                       r'$t_0$',\n",
    "                       r'$s_{\\rm lc}$',\n",
    "                       'vsys',\n",
    "                       r'$K$',\n",
    "                       r'$s_{\\rm RV}$',\n",
    "                       r'$P$',\n",
    "                       r'$e$',\n",
    "                       r'$\\omega$']\n",
    "        if fix_ecc:\n",
    "            self.labels.pop(10)\n",
    "            self.labels.pop(9)\n",
    "\n",
    "\n",
    "    def set_rv_parameters(self, pars):\n",
    "        \"\"\" pars should be [rvsys, K, jitter_rv] \"\"\"\n",
    "        self.rvsys, self.K, self.jitter_rv = pars\n",
    "\n",
    "\n",
    "    def set_transit_parameters(self, pars):\n",
    "        \"\"\" pars should be [rp, a, inc, t0, jitter_lc] \"\"\"\n",
    "        self.rp, self.a, self.inc, self.t0, self.jitter_lc = pars\n",
    "\n",
    "    def set_shared_parameters(self, pars):\n",
    "        \"\"\" pars should be [period, (ecc, w)] \"\"\"\n",
    "        if fix_ecc:\n",
    "            self.period = pars\n",
    "            self.ecc = 0.\n",
    "            self.w = 90.\n",
    "        else:\n",
    "            self.period, self.ecc, self.w = pars\n",
    "        self.T0 = get_tp(self.period, self.ecc, self.w, self.t0)\n",
    "        \n",
    "\n",
    "    def get_rv_curve(self, time, debug=False):\n",
    "        return rv_curve(time,\n",
    "                        self.rvsys, self.K, self.w, \n",
    "                        self.ecc, self.T0, self.period)\n",
    "\n",
    "    def get_transit_curve(self, time, debug=False):\n",
    "        self.params.t0 = self.t0\n",
    "        self.params.per = self.period\n",
    "        self.params.rp = self.rp\n",
    "        self.params.a = self.a\n",
    "        self.params.inc = self.inc\n",
    "        self.params.ecc = self.ecc\n",
    "        self.params.w = self.w\n",
    "\n",
    "        self.batman_model = batman.TransitModel(self.params, time)\n",
    "        light_curve = self.batman_model.light_curve(self.params)\n",
    "        return light_curve\n",
    "\n",
    "\n",
    "    def set_priors(self):\n",
    "        \"\"\" Define the prior distributions \"\"\"\n",
    "        \n",
    "        self.prior_rp = stats.uniform(0.1, 0.1)       # planet radius (in units of stellar radii)\n",
    "        self.prior_a = stats.uniform(9, 2)           # semi-major axis (in units of stellar radii)\n",
    "        self.prior_inc = stats.norm(86.66, 0.1)        # orbital inclination (in degrees)\n",
    "        self.prior_t0 = stats.norm(57064.4327, 1e-3)  # time of inferior conjunction\n",
    "        self.prior_jitter_lc = stats.reciprocal(0.001, 0.1)\n",
    "\n",
    "        # rv parameters\n",
    "        self.prior_rvsys = stats.uniform(32.86, .02)    #\n",
    "        self.prior_K = stats.uniform(90, 30)      #\n",
    "        self.prior_jitter_rv = stats.reciprocal(0.1, 10.)\n",
    " \n",
    "        # parameters shared between transit and rv\n",
    "        #self.prior_period = stats.uniform(3.23, 0.04)   # orbital period\n",
    "        self.prior_period = stats.norm(3.25883, 1e-5)   # orbital period\n",
    "        \n",
    "        if not fix_ecc:\n",
    "            self.prior_ecc = stats.uniform(0, 1)  # eccentricity\n",
    "            self.prior_w = stats.uniform(0, 360)  # longitude of periastron (in degrees)\n",
    "\n",
    "        #return [self.prior_rp,self.prior_a, self.prior_inc, self.prior_t0, self.prior_jitter_lc,\n",
    "        #        self.prior_rvsys, self.prior_K, self.prior_jitter_rv,\n",
    "        #        self.prior_period, self.prior_ecc, self.prior_w]\n",
    "\n",
    "\n",
    "    def get_from_prior(self, nwalkers):\n",
    "\n",
    "        self.set_priors()\n",
    "\n",
    "        pars_from_prior = []\n",
    "        for i in range(nwalkers):\n",
    "            random_rp = self.prior_rp.rvs() # planet radius (in units of stellar radii)\n",
    "            random_a = self.prior_a.rvs() # semi-major axis (in units of stellar radii)\n",
    "            random_inc = self.prior_inc.rvs() # orbital inclination (in degrees)\n",
    "            random_t0 = self.prior_t0.rvs() # time of inferior conjunction\n",
    "            random_jitter_lc = self.prior_jitter_lc.rvs()\n",
    "            \n",
    "            # rv parameters\n",
    "            random_rvsys = self.prior_rvsys.rvs()\n",
    "            random_K = self.prior_K.rvs()\n",
    "            random_jitter_rv = self.prior_jitter_rv.rvs()\n",
    "\n",
    "            # parameters shared between transit and rv\n",
    "            random_period = self.prior_period.rvs() # orbital period\n",
    "            \n",
    "            pars_from_prior.append([random_rp,random_a, random_inc, random_t0, random_jitter_lc,\n",
    "                                    random_rvsys, random_K, random_jitter_rv,\n",
    "                                    random_period])\n",
    "\n",
    "            if not fix_ecc:\n",
    "                random_ecc = self.prior_ecc.rvs()       # eccentricity\n",
    "                random_w = self.prior_w.rvs()           # longitude of periastron (in degrees)\n",
    "                \n",
    "                pars_from_prior.append(random_ecc, random_w)\n",
    "\n",
    "            \n",
    "        return pars_from_prior"
   ]
  },
  {
   "cell_type": "code",
   "execution_count": 248,
   "metadata": {
    "collapsed": true
   },
   "outputs": [],
   "source": [
    "class Data(object):\n",
    "    def __init__(self, rv_file, lc_file, skip_rv_rows=2, skip_lc_rows=0):\n",
    "        \n",
    "        self.rv_file = rv_file\n",
    "        self.lc_file = lc_file\n",
    "\n",
    "        # read RVs\n",
    "        self.RVtime, self.RV, self.RVerror = np.loadtxt(rv_file, \n",
    "                                                        unpack=True, skiprows=skip_rv_rows)\n",
    "\n",
    "        # read light curve\n",
    "        self.LCtime, self.LC, self.LCerror = np.loadtxt(lc_file,\n",
    "                                                        unpack=True, skiprows=skip_lc_rows)\n",
    "\n",
    "\n",
    "        # cut last part\n",
    "        #inds = self.LCtime < 57112\n",
    "        #self.LCtime = self.LCtime[inds]\n",
    "        #self.LC = self.LC[inds]\n",
    "        #self.LCerror = self.LCerror[inds]\n",
    "\n",
    "        self.N_rvs = self.RVtime.size\n",
    "        self.N_lc = self.LCtime.size"
   ]
  },
  {
   "cell_type": "code",
   "execution_count": 249,
   "metadata": {
    "collapsed": true
   },
   "outputs": [],
   "source": [
    "def lnlike(pars, planet, data, debug=False):\n",
    "    \"\"\" pars should be\n",
    "    # [rp, a, inc, t0, jitter_lc,\n",
    "    #  rvsys, K, jitter_rv,\n",
    "    #  period, ecc, w]\n",
    "    \"\"\"\n",
    "    log2pi = np.log(2*np.pi)\n",
    "\n",
    "\n",
    "    # set the transit params\n",
    "    planet.set_transit_parameters(pars[:5])\n",
    "    # set the RV params\n",
    "    planet.set_rv_parameters(pars[5:8])\n",
    "    # set the shared params\n",
    "    planet.set_shared_parameters(pars[8:])\n",
    "\n",
    "    if debug: print planet.t0, planet.T0\n",
    "        \n",
    "    # calculate the lnlike for transit\n",
    "    transit_model = planet.get_transit_curve(data.LCtime)\n",
    "\n",
    "    sigma = data.LCerror**2 + planet.jitter_lc**2\n",
    "    chi2 = np.log(sigma)/2. + (data.LC - transit_model)**2 / (2. * (sigma))\n",
    "    log_like_transit = - data.N_lc/2.0 * np.log(2*np.pi) - np.sum(chi2)\n",
    "\n",
    "    if debug: print 'log_like_transit', log_like_transit\n",
    "\n",
    "    # calculate the lnlike for RVs\n",
    "    rv_model = planet.get_rv_curve(data.RVtime)\n",
    "    sigma = data.RVerror**2 + planet.jitter_rv**2\n",
    "    chi2 = np.log(sigma)/2. + (data.RV - rv_model)**2 / (2. * (sigma))\n",
    "    log_like_rv = - data.N_rvs/2.0 * np.log(2*np.pi) - np.sum(chi2)\n",
    "\n",
    "    if debug: print 'log_like_rv', log_like_rv\n",
    "\n",
    "    # sum lnlikes\n",
    "    log_like = log_like_transit + log_like_rv\n",
    "    if debug: print log_like\n",
    "\n",
    "    if not np.isfinite(log_like):\n",
    "        return -np.inf\n",
    "    else:\n",
    "        return log_like"
   ]
  },
  {
   "cell_type": "code",
   "execution_count": 250,
   "metadata": {
    "collapsed": true
   },
   "outputs": [],
   "source": [
    "def lnprior(pars, planet, data, debug=False, fix_ecc=fix_ecc):\n",
    "    \"\"\" pars should be\n",
    "    # [rp, a, inc, t0, jitter_lc,\n",
    "    #  rvsys, K, jitter_rv,\n",
    "    #  period, ecc, w]\n",
    "    \"\"\"\n",
    "\n",
    "    # transit parameters\n",
    "    prior_rp = planet.prior_rp.logpdf(pars[0]) # planet radius (in units of stellar radii)\n",
    "    prior_a = planet.prior_a.logpdf(pars[1]) # semi-major axis (in units of stellar radii)\n",
    "    prior_inc = planet.prior_inc.logpdf(pars[2]) # orbital inclination (in degrees)\n",
    "    prior_t0 = planet.prior_t0.logpdf(pars[3]) # time of inferior conjunction\n",
    "    prior_jitter_lc = planet.prior_jitter_lc.logpdf(pars[4])\n",
    "    \n",
    "    # rv parameters\n",
    "    prior_rvsys = planet.prior_rvsys.logpdf(pars[5])\n",
    "    prior_K = planet.prior_K.logpdf(pars[6])\n",
    "    # prior_T0 = 0.\n",
    "    prior_jitter_rv = planet.prior_jitter_rv.logpdf(pars[7])\n",
    "\n",
    "    # parameters shared between transit and rv\n",
    "    prior_period = planet.prior_period.logpdf(pars[8]) # orbital period\n",
    "\n",
    "    ln_prior = prior_rp + prior_a + prior_inc + prior_t0 + prior_jitter_lc \\\n",
    "                + prior_rvsys + prior_K + prior_jitter_rv \\\n",
    "                + prior_period\n",
    "\n",
    "    \n",
    "    if not fix_ecc:\n",
    "        prior_ecc = planet.prior_ecc.logpdf(pars[9]) # eccentricity\n",
    "        prior_w = planet.prior_w.logpdf(pars[10])    # longitude of periastron (in degrees)\n",
    "\n",
    "        ln_prior += prior_ecc + prior_w\n",
    "        \n",
    "    if debug:\n",
    "        print prior_rp, '\\n', prior_a, '\\n', prior_inc, '\\n', prior_t0, '\\n', prior_jitter_lc \\\n",
    "               , '\\n', prior_rvsys, '\\n', prior_K, '\\n', prior_jitter_rv \\\n",
    "               , '\\n', prior_period, '\\n', prior_ecc, '\\n', prior_w\n",
    "\n",
    "    \n",
    "    if debug: print ln_prior\n",
    "\n",
    "    return ln_prior"
   ]
  },
  {
   "cell_type": "code",
   "execution_count": 251,
   "metadata": {
    "collapsed": true
   },
   "outputs": [],
   "source": [
    "def lnprob(pars, planet, data, debug=True):\n",
    "    lp = lnprior(pars, planet, data)\n",
    "    ll = lnlike(pars, planet, data)\n",
    "    return lp + ll"
   ]
  },
  {
   "cell_type": "code",
   "execution_count": 252,
   "metadata": {
    "collapsed": true
   },
   "outputs": [],
   "source": [
    "def starting_positions(planet, nwalkers):\n",
    "    planet.set_priors()\n",
    "    starting_pars = []\n",
    "    for i in range(nwalkers):\n",
    "        random_rp = 0.13169084 + 0.1*np.random.randn() # planet radius (in units of stellar radii)\n",
    "        random_a = 10.7259218 + 0.5*np.random.randn() # semi-major axis (in units of stellar radii)\n",
    "        random_inc = 86.6848245 + 1e-4*np.random.randn() # orbital inclination (in degrees)\n",
    "        random_t0 = 57064. + np.random.randn() # time of inferior conjunction\n",
    "        random_jitter_lc = planet.prior_jitter_lc.rvs()\n",
    "          \n",
    "        # rv parameters\n",
    "        random_rvsys = 32.8786 + 1e-2*np.random.randn()\n",
    "        random_K = 100. + 5.*np.random.randn()\n",
    "        random_jitter_rv = planet.prior_jitter_rv.rvs()\n",
    "\n",
    "        # parameters shared between transit and rv\n",
    "        random_period = 3.25872421 + 1e-4*np.random.randn() # orbital period\n",
    "            \n",
    "        starting_pars.append([random_rp,random_a, random_inc, random_t0, random_jitter_lc,\n",
    "                              random_rvsys, random_K, random_jitter_rv,\n",
    "                              random_period])\n",
    "\n",
    "        if not fix_ecc:\n",
    "            random_ecc = planet.prior_ecc.rvs()       # eccentricity\n",
    "            random_w = planet.prior_w.rvs()           # longitude of periastron (in degrees)\n",
    "                \n",
    "            starting_pars.append(random_ecc, random_w)\n",
    "\n",
    "            \n",
    "    return starting_pars"
   ]
  },
  {
   "cell_type": "code",
   "execution_count": 253,
   "metadata": {
    "collapsed": false
   },
   "outputs": [],
   "source": [
    "planet = Planet()\n",
    "data = Data(rv_file='../EPIC-9792_SOPHIE.rdb', \n",
    "            lc_file='../cuttransits.txt')"
   ]
  },
  {
   "cell_type": "code",
   "execution_count": 254,
   "metadata": {
    "collapsed": false
   },
   "outputs": [],
   "source": [
    "ndim, nwalkers = planet.N_free_parameters, 30\n",
    "\n",
    "# get random starting positions from the priors\n",
    "pos = planet.get_from_prior(nwalkers)\n",
    "#pos = starting_positions(planet, nwalkers)"
   ]
  },
  {
   "cell_type": "code",
   "execution_count": 255,
   "metadata": {
    "collapsed": false
   },
   "outputs": [],
   "source": [
    "import emcee\n",
    "\n",
    "sampler = emcee.EnsembleSampler(nwalkers, ndim, lnprob, args=(planet, data), threads=1)\n",
    "out = sampler.run_mcmc(pos, 5000)"
   ]
  },
  {
   "cell_type": "code",
   "execution_count": 256,
   "metadata": {
    "collapsed": true
   },
   "outputs": [],
   "source": [
    "burnin = 100\n",
    "samples = sampler.chain[:, burnin:, :].reshape((-1, ndim))"
   ]
  },
  {
   "cell_type": "code",
   "execution_count": 257,
   "metadata": {
    "collapsed": false
   },
   "outputs": [
    {
     "data": {
      "text/plain": [
       "(147000, 9)"
      ]
     },
     "execution_count": 257,
     "metadata": {},
     "output_type": "execute_result"
    }
   ],
   "source": [
    "samples.shape"
   ]
  },
  {
   "cell_type": "code",
   "execution_count": 234,
   "metadata": {
    "collapsed": false
   },
   "outputs": [],
   "source": [
    "plt.figure(figsize=(10, 12))\n",
    "n = samples.shape[1]\n",
    "for i in range(n):\n",
    "    plt.subplot(n, 1, i+1)\n",
    "    plt.plot(samples[::10, i])\n",
    "\n",
    "plt.tight_layout()\n",
    "plt.show()"
   ]
  },
  {
   "cell_type": "code",
   "execution_count": 258,
   "metadata": {
    "collapsed": true
   },
   "outputs": [],
   "source": [
    "plt.figure(figsize=(10, 12))\n",
    "for i in range(nwalkers):\n",
    "    plt.plot(sampler.chain[i, :, 6])\n",
    "\n",
    "plt.tight_layout()\n",
    "plt.show()"
   ]
  },
  {
   "cell_type": "code",
   "execution_count": 240,
   "metadata": {
    "collapsed": false
   },
   "outputs": [],
   "source": [
    "import corner\n",
    "\n",
    "fig = corner.corner(samples[::100, :], labels=planet.labels)\n",
    "#fig.savefig('samples.png')\n",
    "plt.show()"
   ]
  },
  {
   "cell_type": "code",
   "execution_count": 259,
   "metadata": {
    "collapsed": false
   },
   "outputs": [
    {
     "name": "stdout",
     "output_type": "stream",
     "text": [
      "[' Rp / R*', '    a/R*', '       i', '      t0', '  s{ lc}', '    vsys', '       K', '  s{ RV}', '       P']\n",
      "['  0.1023', ' 10.4952', ' 86.6341', '57064.4328', '  0.0079', ' 32.8688', ' 90.9597', ' 29.6496', '  3.2588']\n"
     ]
    }
   ],
   "source": [
    "median_pars = np.median(samples, axis=0)\n",
    "\n",
    "print ['%8s' % s.replace('$', '').replace('_', '').replace('\\\\rm', '').replace('\\\\','') for s in planet.labels]\n",
    "print ['%8.4f' % s for s in median_pars]"
   ]
  },
  {
   "cell_type": "code",
   "execution_count": 260,
   "metadata": {
    "collapsed": false
   },
   "outputs": [],
   "source": [
    "def random_RVcurve(time, ncurves=10):\n",
    "    ind = np.random.choice(range(samples.shape[0]), size=ncurves, replace=False)\n",
    "    \n",
    "    curves = []\n",
    "    \n",
    "    for i in ind:\n",
    "        planet.set_transit_parameters(samples[i, :5])\n",
    "        # set the RV params\n",
    "        planet.set_rv_parameters(samples[i, 5:8])\n",
    "        # set the shared params\n",
    "        planet.set_shared_parameters(samples[i, 8:])\n",
    "        \n",
    "        curves.append(planet.get_rv_curve(time))\n",
    "    return curves\n",
    "\n",
    "def random_LCcurve(time, ncurves=10):\n",
    "    ind = np.random.choice(range(samples.shape[0]), size=ncurves, replace=False)\n",
    "    \n",
    "    curves = []\n",
    "    \n",
    "    for i in ind:\n",
    "        planet.set_transit_parameters(samples[i, :5])\n",
    "        # set the RV params\n",
    "        planet.set_rv_parameters(samples[i, 5:8])\n",
    "        # set the shared params\n",
    "        planet.set_shared_parameters(samples[i, 8:])\n",
    "        \n",
    "        curves.append(planet.get_transit_curve(time))\n",
    "    return curves\n",
    "\n"
   ]
  },
  {
   "cell_type": "code",
   "execution_count": 262,
   "metadata": {
    "collapsed": false
   },
   "outputs": [
    {
     "name": "stdout",
     "output_type": "stream",
     "text": [
      "57064.4327717\n"
     ]
    }
   ],
   "source": [
    "# set the transit params\n",
    "#median_pars[2] = 85\n",
    "#median_pars[3] = 57064.43\n",
    "planet.set_transit_parameters(median_pars[:5])\n",
    "# set the RV params\n",
    "planet.set_rv_parameters(median_pars[5:8])\n",
    "# set the shared params\n",
    "planet.set_shared_parameters(median_pars[8:])\n",
    "\n",
    "print planet.T0"
   ]
  },
  {
   "cell_type": "code",
   "execution_count": 263,
   "metadata": {
    "collapsed": true
   },
   "outputs": [],
   "source": [
    "fig = plt.figure()\n",
    "ax = fig.add_subplot(211)\n",
    "\n",
    "time = np.linspace(data.LCtime.min(), data.LCtime.max(), 5000)\n",
    "lc = planet.get_transit_curve(time)\n",
    "\n",
    "ax.plot(time, lc)\n",
    "#for curve in random_LCcurve(time, ncurves=10):\n",
    "#    ax.plot(time, curve*1e-3, 'k', alpha=0.1)\n",
    "    \n",
    "ax.plot(data.LCtime, data.LC, '-.')\n",
    "\n",
    "\n",
    "ax = fig.add_subplot(212)\n",
    "\n",
    "time = np.linspace(data.RVtime.min(), data.RVtime.max(), 1000)\n",
    "rv = planet.get_rv_curve(time)\n",
    "ax.errorbar(data.RVtime, data.RV - median_pars[5], data.RVerror, fmt='o')\n",
    "ax.plot(time, rv*1e-3, 'k', alpha=0.1)\n",
    "\n",
    "#for curve in random_RVcurve(time, ncurves=50):\n",
    "#    ax.plot(time, curve*1e-3, 'k', alpha=0.1)\n",
    "\n",
    "#ax.set_xlim(data.LCtime.min(), data.RVtime.max())\n",
    "\n",
    "plt.show()"
   ]
  },
  {
   "cell_type": "code",
   "execution_count": null,
   "metadata": {
    "collapsed": true
   },
   "outputs": [],
   "source": []
  }
 ],
 "metadata": {
  "kernelspec": {
   "display_name": "Python 2",
   "language": "python",
   "name": "python2"
  },
  "language_info": {
   "codemirror_mode": {
    "name": "ipython",
    "version": 2
   },
   "file_extension": ".py",
   "mimetype": "text/x-python",
   "name": "python",
   "nbconvert_exporter": "python",
   "pygments_lexer": "ipython2",
   "version": "2.7.12"
  }
 },
 "nbformat": 4,
 "nbformat_minor": 0
}
