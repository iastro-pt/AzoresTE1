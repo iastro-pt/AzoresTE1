{
 "cells": [
  {
   "cell_type": "code",
   "execution_count": null,
   "metadata": {
    "collapsed": false
   },
   "outputs": [],
   "source": [
    "import sys\n",
    "import numpy as np\n",
    "import matplotlib.pyplot as plt"
   ]
  },
  {
   "cell_type": "code",
   "execution_count": null,
   "metadata": {
    "collapsed": true
   },
   "outputs": [],
   "source": [
    "sys.path.append('..')\n",
    "import utilities.ajplanet as planet"
   ]
  },
  {
   "cell_type": "code",
   "execution_count": null,
   "metadata": {
    "collapsed": true
   },
   "outputs": [],
   "source": [
    "time = np.linspace(0, 100, 500)"
   ]
  },
  {
   "cell_type": "code",
   "execution_count": null,
   "metadata": {
    "collapsed": false
   },
   "outputs": [],
   "source": [
    "# set the orbital period\n",
    "P = 40.\n",
    "# the time of periastron passage\n",
    "T0 = 0.\n",
    "# the semi-amplitude\n",
    "K = 1.\n",
    "# the system's center of mass radial velocity\n",
    "gamma = 0."
   ]
  },
  {
   "cell_type": "code",
   "execution_count": null,
   "metadata": {
    "collapsed": true
   },
   "outputs": [],
   "source": [
    "eccs = [0., 0.3, 0.6, 0.9]\n",
    "omegas = [0., 30., 60., 90.]\n",
    "omegas_radians = [np.radians(a) for a in omegas]"
   ]
  },
  {
   "cell_type": "code",
   "execution_count": null,
   "metadata": {
    "collapsed": false
   },
   "outputs": [],
   "source": [
    "fig = plt.figure(figsize=(10, 10))\n",
    "\n",
    "i = 1\n",
    "\n",
    "for omega in omegas_radians:\n",
    "    for ecc in eccs:\n",
    "        curve = planet.pl_rv_array(time, gamma, K, omega, ecc, T0, P)\n",
    "        \n",
    "        ax = fig.add_subplot(4,4,i)\n",
    "        ax.set_axis_off()\n",
    "        ax.set_title('e=%2.1f, w=%-2d' % (ecc, round(np.rad2deg(omega))))\n",
    "        ax.plot(time, curve)\n",
    "        i += 1\n",
    "    "
   ]
  },
  {
   "cell_type": "code",
   "execution_count": null,
   "metadata": {
    "collapsed": true
   },
   "outputs": [],
   "source": [
    "plt.show()"
   ]
  },
  {
   "cell_type": "code",
   "execution_count": null,
   "metadata": {
    "collapsed": true
   },
   "outputs": [],
   "source": []
  },
  {
   "cell_type": "code",
   "execution_count": null,
   "metadata": {
    "collapsed": true
   },
   "outputs": [],
   "source": []
  },
  {
   "cell_type": "code",
   "execution_count": null,
   "metadata": {
    "collapsed": true
   },
   "outputs": [],
   "source": []
  },
  {
   "cell_type": "code",
   "execution_count": null,
   "metadata": {
    "collapsed": true
   },
   "outputs": [],
   "source": [
    "import batman\n",
    "\n",
    "params = batman.TransitParams()\n",
    "params.t0 = 0. # time of inferior conjunction\n",
    "params.per = 1. # orbital period\n",
    "params.rp = 0.1 # planet radius (in units of stellar radii)\n",
    "params.a = 5. # semi-major axis (in units of stellar radii)\n",
    "params.inc = 87. # orbital inclination (in degrees)\n",
    "params.ecc = 0. # eccentricity\n",
    "params.w = 90. # longitude of periastron (in degrees)\n",
    "params.limb_dark = \"uniform\" # limb darkening model\n",
    "params.u = [] # limb darkening coefficients"
   ]
  },
  {
   "cell_type": "code",
   "execution_count": null,
   "metadata": {
    "collapsed": false
   },
   "outputs": [],
   "source": [
    "t = np.linspace(-0.065, 0.065, 1000)  #times at which to calculate light curve\n",
    "m = batman.TransitModel(params, t)    #initializes model"
   ]
  },
  {
   "cell_type": "code",
   "execution_count": null,
   "metadata": {
    "collapsed": false
   },
   "outputs": [],
   "source": [
    "eccs = [0., 0.3, 0.6, 0.9]\n",
    "inclinations = [75, 80, 85, 90]\n",
    "semimajoraxis = [3, 4, 5, 6]\n",
    "ld_options = [\"uniform\", \"linear\", \"quadratic\", \"nonlinear\"]\n",
    "ld_coefficients = [[], [0.3], [0.1, 0.3], [0.5, 0.1, 0.1, -0.1]]"
   ]
  },
  {
   "cell_type": "code",
   "execution_count": null,
   "metadata": {
    "collapsed": false
   },
   "outputs": [],
   "source": [
    "fig = plt.figure(figsize=(10, 10))\n",
    "\n",
    "i = 1\n",
    "\n",
    "for inclination in inclinations:\n",
    "    for a in semimajoraxis:\n",
    "        params.a = a\n",
    "        params.inc = inclination\n",
    "        m = batman.TransitModel(params, t)\n",
    "        curve = m.light_curve(params)\n",
    "        \n",
    "        ax = fig.add_subplot(4,4,i)\n",
    "        ax.set_axis_off()\n",
    "        ax.set_ylim([0.980, 1.01])\n",
    "        ax.set_title('a/R*=%1.0f, i=%2.1f' % (a, inclination))\n",
    "        ax.plot(t, curve)\n",
    "        i += 1"
   ]
  },
  {
   "cell_type": "code",
   "execution_count": null,
   "metadata": {
    "collapsed": true
   },
   "outputs": [],
   "source": [
    "plt.show()"
   ]
  },
  {
   "cell_type": "code",
   "execution_count": null,
   "metadata": {
    "collapsed": true
   },
   "outputs": [],
   "source": []
  }
 ],
 "metadata": {
  "kernelspec": {
   "display_name": "Python 2",
   "language": "python",
   "name": "python2"
  },
  "language_info": {
   "codemirror_mode": {
    "name": "ipython",
    "version": 2
   },
   "file_extension": ".py",
   "mimetype": "text/x-python",
   "name": "python",
   "nbconvert_exporter": "python",
   "pygments_lexer": "ipython2",
   "version": "2.7.12"
  }
 },
 "nbformat": 4,
 "nbformat_minor": 0
}
